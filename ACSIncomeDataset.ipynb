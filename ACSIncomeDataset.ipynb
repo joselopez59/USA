{
 "cells": [
  {
   "cell_type": "markdown",
   "metadata": {},
   "source": [
    "## Notes\n",
    "\n",
    "df['Farbe'] = df['Farbe'].astype('category')"
   ]
  },
  {
   "cell_type": "markdown",
   "metadata": {},
   "source": [
    "## About the ACSIncome Dataset\n",
    "  \n",
    "ACSIncome is one of several datasets created by [Ding et al.](https://proceedings.neurips.cc/paper_files/paper/2021/file/32e54441e6382a7fbacbbbaf3c450059-Paper.pdf) as an alternative to [UCI Adult](https://archive.ics.uci.edu/dataset/2/adult). A few key details about ACSIncome:\n",
    "*   The dataset contains 1,664,500 datapoints pulled from the 2018 United States–wide [American Community Survey](https://www.census.gov/programs-surveys/acs) (ACS) [Public Use Microdata Sample](https://www.census.gov/programs-surveys/acs/microdata.html) (PUMS) data sample.\n",
    "*   All fifty US states and Puerto Rico are represented in this dataset.\n",
    "*   Each row represents a person described by various features, including age, race, and sex, which correspond to protected categories in different domains under US anti-discrimination laws.\n",
    "*   The dataset only includes individuals above 16 years old who worked at least 1 hour per week in the past year and had an income of at least $100 USD.\n",
    "\n",
    "For more information on the dataset and how it was created to reconstruct UCI Adult, check out the following citations:\n",
    "\n",
    "> Ding, Frances, Moritz Hardt, John Miller, and Ludwig Schmidt. \"[Retiring adult: New datasets for fair machine learning.](https://proceedings.neurips.cc/paper_files/paper/2021/hash/32e54441e6382a7fbacbbbaf3c450059-Abstract.html)\" Advances in neural information processing systems 34 (2021): 6478-6490.\n",
    "\n",
    "> Sarah Flood, Miriam King, Renae Rodgers, Steven Ruggles, and J. Robert Warren (2020). Integrated Public Use Microdata Series, Current Population Survey: Version 8.0 [dataset]. Minneapolis, MN: IPUMS. https://doi.org/10.18128/D030.V8.0\n"
   ]
  },
  {
   "cell_type": "markdown",
   "metadata": {},
   "source": [
    "## Features\n",
    "\n",
    "After importing the dataset, five random samples appear in a table in the output cell. Each sample represents an individual, with each column representing an aspect of the invidiual, such as their age, occupation, place of birth, and so forth.\n",
    "\n",
    "The following table describes each feature column:\n",
    "\n",
    "| Feature    | Description |\n",
    "| -------- | ------- |\n",
    "| AGEP | Age |\n",
    "| COW | Class of worker (government employee, self-employed, private employee) |\n",
    "| SCHL | Educational attainment (high school diploma, bachelor's degree, doctorate degree) |\n",
    "| MAR  | Marital status |\n",
    "| OCCP | Occuptation |\n",
    "| POBP | Place of birth |\n",
    "| RELP | Relationship to householder (husband or wife, housemate or roommate, nursing home, group home, etc.)  |\n",
    "| WKHP | Usual hours worked per week in the past 12 months |\n",
    "| SEX | Male or female |\n",
    "| RAC1P | Recorded detailed race code |\n",
    "| ST | US state code that represents the individual's location |\n",
    "| PINCP | Total person's yearly income |\n",
    "\n",
    "All of these features are represented numerically, though some of them correspond to a coded value. For example, for the `COW` (Class of worker) feature, `1.0` represents *an employee of a private for-profit company or business, or of an individual, for wages, salary, or commissions* and `2.0` represents *an employee of a private not-for-profit, tax-exempt, or charitable organization*. See [the supplemental section](https://proceedings.neurips.cc/paper_files/paper/2021/file/32e54441e6382a7fbacbbbaf3c450059-Supplemental.pdf) of [Ding et al.](https://proceedings.neurips.cc/paper_files/paper/2021/file/32e54441e6382a7fbacbbbaf3c450059-Paper.pdf) and the [ACS PUMS 2018 Data Dictionary](https://www2.census.gov/programs-surveys/acs/tech_docs/pums/data_dict/PUMS_Data_Dictionary_2018.pdf) for the full mapping of codes."
   ]
  },
  {
   "cell_type": "code",
   "execution_count": null,
   "metadata": {},
   "outputs": [],
   "source": [
    "# %pip install pandas"
   ]
  },
  {
   "cell_type": "code",
   "execution_count": 1,
   "metadata": {},
   "outputs": [
    {
     "name": "stdout",
     "output_type": "stream",
     "text": [
      "(1664500, 12)\n",
      "<class 'pandas.core.frame.DataFrame'>\n",
      "RangeIndex: 1664500 entries, 0 to 1664499\n",
      "Data columns (total 12 columns):\n",
      " #   Column  Non-Null Count    Dtype  \n",
      "---  ------  --------------    -----  \n",
      " 0   AGEP    1664500 non-null  float64\n",
      " 1   COW     1664500 non-null  float64\n",
      " 2   SCHL    1664500 non-null  float64\n",
      " 3   MAR     1664500 non-null  float64\n",
      " 4   OCCP    1664500 non-null  float64\n",
      " 5   POBP    1664500 non-null  float64\n",
      " 6   RELP    1664500 non-null  float64\n",
      " 7   WKHP    1664500 non-null  float64\n",
      " 8   SEX     1664500 non-null  float64\n",
      " 9   RAC1P   1664500 non-null  float64\n",
      " 10  ST      1664500 non-null  float64\n",
      " 11  PINCP   1664500 non-null  float64\n",
      "dtypes: float64(12)\n",
      "memory usage: 152.4 MB\n",
      "None\n"
     ]
    }
   ],
   "source": [
    "import pandas as pd\n",
    "\n",
    "# Import the dataset\n",
    "# acs_df = pd.read_csv(\"data/acsincome_raw_2018.csv\")\n",
    "acs_df = pd.read_csv(filepath_or_buffer=\"https://download.mlcc.google.com/mledu-datasets/acsincome_raw_2018.csv\")\n",
    "\n",
    "print(acs_df.shape)\n",
    "\n",
    "print(acs_df.info())\n",
    "\n",
    "# Print five random rows of the pandas DataFrame.\n",
    "# acs_df.sample(5)"
   ]
  },
  {
   "cell_type": "code",
   "execution_count": 2,
   "metadata": {},
   "outputs": [
    {
     "data": {
      "text/plain": [
       "Index(['AGEP', 'COW', 'SCHL', 'MAR', 'OCCP', 'POBP', 'RELP', 'WKHP', 'SEX',\n",
       "       'RAC1P', 'ST', 'PINCP'],\n",
       "      dtype='object')"
      ]
     },
     "execution_count": 2,
     "metadata": {},
     "output_type": "execute_result"
    }
   ],
   "source": [
    "acs_df.columns"
   ]
  },
  {
   "cell_type": "code",
   "execution_count": 31,
   "metadata": {},
   "outputs": [
    {
     "name": "stdout",
     "output_type": "stream",
     "text": [
      "                AGE           COW          SCHL           MAR          OCCP   \n",
      "count  1.664500e+06  1.664500e+06  1.664500e+06  1.664500e+06  1.664500e+06  \\\n",
      "mean   4.341127e+01  2.077500e+00  1.861814e+01  2.521997e+00  4.180517e+03   \n",
      "std    1.530203e+01  1.825338e+00  3.297826e+00  1.796720e+00  2.658717e+03   \n",
      "min    1.700000e+01  1.000000e+00  1.000000e+00  1.000000e+00  1.000000e+01   \n",
      "25%    3.000000e+01  1.000000e+00  1.600000e+01  1.000000e+00  2.205000e+03   \n",
      "50%    4.300000e+01  1.000000e+00  1.900000e+01  1.000000e+00  4.200000e+03   \n",
      "75%    5.600000e+01  3.000000e+00  2.100000e+01  5.000000e+00  5.740000e+03   \n",
      "max    9.600000e+01  8.000000e+00  2.400000e+01  5.000000e+00  9.830000e+03   \n",
      "\n",
      "               POBP          RELP          WKHP          RACE         STATE   \n",
      "count  1.664500e+06  1.664500e+06  1.664500e+06  1.664500e+06  1.664500e+06  \\\n",
      "mean   6.581708e+01  2.241254e+00  3.833390e+01  1.874745e+00  2.812590e+01   \n",
      "std    9.306245e+01  4.385288e+00  1.308073e+01  2.084384e+00  1.631822e+01   \n",
      "min    1.000000e+00  0.000000e+00  1.000000e+00  1.000000e+00  1.000000e+00   \n",
      "25%    1.800000e+01  0.000000e+00  3.500000e+01  1.000000e+00  1.200000e+01   \n",
      "50%    3.600000e+01  1.000000e+00  4.000000e+01  1.000000e+00  2.800000e+01   \n",
      "75%    4.800000e+01  2.000000e+00  4.400000e+01  1.000000e+00  4.200000e+01   \n",
      "max    5.540000e+02  1.700000e+01  9.900000e+01  9.000000e+00  7.200000e+01   \n",
      "\n",
      "             INCOME  \n",
      "count  1.664500e+06  \n",
      "mean   5.666386e+04  \n",
      "std    7.306745e+04  \n",
      "min    1.040000e+02  \n",
      "25%    2.000000e+04  \n",
      "50%    3.900000e+04  \n",
      "75%    6.800000e+04  \n",
      "max    1.423000e+06  \n"
     ]
    }
   ],
   "source": [
    "print(acs_df.describe())"
   ]
  },
  {
   "cell_type": "code",
   "execution_count": 3,
   "metadata": {},
   "outputs": [
    {
     "data": {
      "text/html": [
       "<div>\n",
       "<style scoped>\n",
       "    .dataframe tbody tr th:only-of-type {\n",
       "        vertical-align: middle;\n",
       "    }\n",
       "\n",
       "    .dataframe tbody tr th {\n",
       "        vertical-align: top;\n",
       "    }\n",
       "\n",
       "    .dataframe thead th {\n",
       "        text-align: right;\n",
       "    }\n",
       "</style>\n",
       "<table border=\"1\" class=\"dataframe\">\n",
       "  <thead>\n",
       "    <tr style=\"text-align: right;\">\n",
       "      <th></th>\n",
       "      <th>AGEP</th>\n",
       "      <th>COW</th>\n",
       "      <th>SCHL</th>\n",
       "      <th>MAR</th>\n",
       "      <th>OCCP</th>\n",
       "      <th>POBP</th>\n",
       "      <th>RELP</th>\n",
       "      <th>WKHP</th>\n",
       "      <th>SEX</th>\n",
       "      <th>RAC1P</th>\n",
       "      <th>ST</th>\n",
       "      <th>PINCP</th>\n",
       "    </tr>\n",
       "  </thead>\n",
       "  <tbody>\n",
       "    <tr>\n",
       "      <th>128985</th>\n",
       "      <td>65.0</td>\n",
       "      <td>1.0</td>\n",
       "      <td>22.0</td>\n",
       "      <td>1.0</td>\n",
       "      <td>4700.0</td>\n",
       "      <td>240.0</td>\n",
       "      <td>1.0</td>\n",
       "      <td>40.0</td>\n",
       "      <td>1.0</td>\n",
       "      <td>6.0</td>\n",
       "      <td>6.0</td>\n",
       "      <td>50000.0</td>\n",
       "    </tr>\n",
       "    <tr>\n",
       "      <th>1309762</th>\n",
       "      <td>20.0</td>\n",
       "      <td>1.0</td>\n",
       "      <td>13.0</td>\n",
       "      <td>5.0</td>\n",
       "      <td>4030.0</td>\n",
       "      <td>45.0</td>\n",
       "      <td>12.0</td>\n",
       "      <td>40.0</td>\n",
       "      <td>2.0</td>\n",
       "      <td>1.0</td>\n",
       "      <td>45.0</td>\n",
       "      <td>26000.0</td>\n",
       "    </tr>\n",
       "    <tr>\n",
       "      <th>1105698</th>\n",
       "      <td>21.0</td>\n",
       "      <td>1.0</td>\n",
       "      <td>19.0</td>\n",
       "      <td>5.0</td>\n",
       "      <td>7200.0</td>\n",
       "      <td>37.0</td>\n",
       "      <td>2.0</td>\n",
       "      <td>40.0</td>\n",
       "      <td>1.0</td>\n",
       "      <td>1.0</td>\n",
       "      <td>37.0</td>\n",
       "      <td>25000.0</td>\n",
       "    </tr>\n",
       "    <tr>\n",
       "      <th>507646</th>\n",
       "      <td>62.0</td>\n",
       "      <td>1.0</td>\n",
       "      <td>18.0</td>\n",
       "      <td>1.0</td>\n",
       "      <td>4720.0</td>\n",
       "      <td>36.0</td>\n",
       "      <td>1.0</td>\n",
       "      <td>40.0</td>\n",
       "      <td>2.0</td>\n",
       "      <td>1.0</td>\n",
       "      <td>17.0</td>\n",
       "      <td>35100.0</td>\n",
       "    </tr>\n",
       "    <tr>\n",
       "      <th>1189849</th>\n",
       "      <td>42.0</td>\n",
       "      <td>7.0</td>\n",
       "      <td>21.0</td>\n",
       "      <td>1.0</td>\n",
       "      <td>310.0</td>\n",
       "      <td>39.0</td>\n",
       "      <td>0.0</td>\n",
       "      <td>50.0</td>\n",
       "      <td>1.0</td>\n",
       "      <td>1.0</td>\n",
       "      <td>39.0</td>\n",
       "      <td>60000.0</td>\n",
       "    </tr>\n",
       "  </tbody>\n",
       "</table>\n",
       "</div>"
      ],
      "text/plain": [
       "         AGEP  COW  SCHL  MAR    OCCP   POBP  RELP  WKHP  SEX  RAC1P    ST   \n",
       "128985   65.0  1.0  22.0  1.0  4700.0  240.0   1.0  40.0  1.0    6.0   6.0  \\\n",
       "1309762  20.0  1.0  13.0  5.0  4030.0   45.0  12.0  40.0  2.0    1.0  45.0   \n",
       "1105698  21.0  1.0  19.0  5.0  7200.0   37.0   2.0  40.0  1.0    1.0  37.0   \n",
       "507646   62.0  1.0  18.0  1.0  4720.0   36.0   1.0  40.0  2.0    1.0  17.0   \n",
       "1189849  42.0  7.0  21.0  1.0   310.0   39.0   0.0  50.0  1.0    1.0  39.0   \n",
       "\n",
       "           PINCP  \n",
       "128985   50000.0  \n",
       "1309762  26000.0  \n",
       "1105698  25000.0  \n",
       "507646   35100.0  \n",
       "1189849  60000.0  "
      ]
     },
     "execution_count": 3,
     "metadata": {},
     "output_type": "execute_result"
    }
   ],
   "source": [
    "acs_df.sample(5)"
   ]
  },
  {
   "cell_type": "code",
   "execution_count": 5,
   "metadata": {},
   "outputs": [],
   "source": [
    "COLUMNS_DE = ['AGE', 'COW', 'SCHL', 'MAR', 'OCCP', 'POBP', 'RELP', 'WKHP', 'SEX', 'RACE', 'STATE', 'INCOME']\n",
    "COLUMNS_NAMES_DE = ['ALTER', 'COW', 'BILDUNG', 'F_STAND', 'OCCP', 'POBP', 'RELP', 'WKHP', 'GENRE', 'RASSE', 'US-STATE', 'EINKOMMEN']"
   ]
  },
  {
   "cell_type": "code",
   "execution_count": 7,
   "metadata": {},
   "outputs": [
    {
     "data": {
      "text/html": [
       "<div>\n",
       "<style scoped>\n",
       "    .dataframe tbody tr th:only-of-type {\n",
       "        vertical-align: middle;\n",
       "    }\n",
       "\n",
       "    .dataframe tbody tr th {\n",
       "        vertical-align: top;\n",
       "    }\n",
       "\n",
       "    .dataframe thead th {\n",
       "        text-align: right;\n",
       "    }\n",
       "</style>\n",
       "<table border=\"1\" class=\"dataframe\">\n",
       "  <thead>\n",
       "    <tr style=\"text-align: right;\">\n",
       "      <th></th>\n",
       "      <th>AGE</th>\n",
       "      <th>COW</th>\n",
       "      <th>SCHL</th>\n",
       "      <th>MAR</th>\n",
       "      <th>OCCP</th>\n",
       "      <th>POBP</th>\n",
       "      <th>RELP</th>\n",
       "      <th>WKHP</th>\n",
       "      <th>SEX</th>\n",
       "      <th>RACE</th>\n",
       "      <th>STATE</th>\n",
       "      <th>INCOME</th>\n",
       "    </tr>\n",
       "  </thead>\n",
       "  <tbody>\n",
       "    <tr>\n",
       "      <th>987665</th>\n",
       "      <td>21.0</td>\n",
       "      <td>1.0</td>\n",
       "      <td>20.0</td>\n",
       "      <td>5.0</td>\n",
       "      <td>4760.0</td>\n",
       "      <td>36.0</td>\n",
       "      <td>0.0</td>\n",
       "      <td>12.0</td>\n",
       "      <td>2.0</td>\n",
       "      <td>1.0</td>\n",
       "      <td>36.0</td>\n",
       "      <td>3500.0</td>\n",
       "    </tr>\n",
       "    <tr>\n",
       "      <th>1047366</th>\n",
       "      <td>25.0</td>\n",
       "      <td>1.0</td>\n",
       "      <td>22.0</td>\n",
       "      <td>5.0</td>\n",
       "      <td>4350.0</td>\n",
       "      <td>36.0</td>\n",
       "      <td>2.0</td>\n",
       "      <td>21.0</td>\n",
       "      <td>2.0</td>\n",
       "      <td>1.0</td>\n",
       "      <td>36.0</td>\n",
       "      <td>1000.0</td>\n",
       "    </tr>\n",
       "    <tr>\n",
       "      <th>548533</th>\n",
       "      <td>46.0</td>\n",
       "      <td>1.0</td>\n",
       "      <td>16.0</td>\n",
       "      <td>1.0</td>\n",
       "      <td>4700.0</td>\n",
       "      <td>100.0</td>\n",
       "      <td>6.0</td>\n",
       "      <td>50.0</td>\n",
       "      <td>2.0</td>\n",
       "      <td>1.0</td>\n",
       "      <td>17.0</td>\n",
       "      <td>40000.0</td>\n",
       "    </tr>\n",
       "    <tr>\n",
       "      <th>740545</th>\n",
       "      <td>19.0</td>\n",
       "      <td>1.0</td>\n",
       "      <td>16.0</td>\n",
       "      <td>5.0</td>\n",
       "      <td>7210.0</td>\n",
       "      <td>25.0</td>\n",
       "      <td>7.0</td>\n",
       "      <td>40.0</td>\n",
       "      <td>1.0</td>\n",
       "      <td>1.0</td>\n",
       "      <td>25.0</td>\n",
       "      <td>42000.0</td>\n",
       "    </tr>\n",
       "    <tr>\n",
       "      <th>938251</th>\n",
       "      <td>66.0</td>\n",
       "      <td>3.0</td>\n",
       "      <td>18.0</td>\n",
       "      <td>1.0</td>\n",
       "      <td>4220.0</td>\n",
       "      <td>34.0</td>\n",
       "      <td>0.0</td>\n",
       "      <td>20.0</td>\n",
       "      <td>1.0</td>\n",
       "      <td>1.0</td>\n",
       "      <td>34.0</td>\n",
       "      <td>52800.0</td>\n",
       "    </tr>\n",
       "  </tbody>\n",
       "</table>\n",
       "</div>"
      ],
      "text/plain": [
       "          AGE  COW  SCHL  MAR    OCCP   POBP  RELP  WKHP  SEX  RACE  STATE   \n",
       "987665   21.0  1.0  20.0  5.0  4760.0   36.0   0.0  12.0  2.0   1.0   36.0  \\\n",
       "1047366  25.0  1.0  22.0  5.0  4350.0   36.0   2.0  21.0  2.0   1.0   36.0   \n",
       "548533   46.0  1.0  16.0  1.0  4700.0  100.0   6.0  50.0  2.0   1.0   17.0   \n",
       "740545   19.0  1.0  16.0  5.0  7210.0   25.0   7.0  40.0  1.0   1.0   25.0   \n",
       "938251   66.0  3.0  18.0  1.0  4220.0   34.0   0.0  20.0  1.0   1.0   34.0   \n",
       "\n",
       "          INCOME  \n",
       "987665    3500.0  \n",
       "1047366   1000.0  \n",
       "548533   40000.0  \n",
       "740545   42000.0  \n",
       "938251   52800.0  "
      ]
     },
     "execution_count": 7,
     "metadata": {},
     "output_type": "execute_result"
    }
   ],
   "source": [
    "acs_df.columns = COLUMNS_DE\n",
    "acs_df.sample(5)"
   ]
  },
  {
   "cell_type": "code",
   "execution_count": 17,
   "metadata": {},
   "outputs": [
    {
     "name": "stdout",
     "output_type": "stream",
     "text": [
      "[2. 1.]\n",
      "['woman' 'man']\n"
     ]
    }
   ],
   "source": [
    "print(acs_df.SEX.unique())\n",
    "\n",
    "acs_df.SEX = acs_df.SEX.apply(lambda x: 'man' if x == 1 else 'woman')\n",
    "\n",
    "print(acs_df.SEX.unique())"
   ]
  },
  {
   "cell_type": "code",
   "execution_count": 18,
   "metadata": {},
   "outputs": [
    {
     "data": {
      "text/html": [
       "<div>\n",
       "<style scoped>\n",
       "    .dataframe tbody tr th:only-of-type {\n",
       "        vertical-align: middle;\n",
       "    }\n",
       "\n",
       "    .dataframe tbody tr th {\n",
       "        vertical-align: top;\n",
       "    }\n",
       "\n",
       "    .dataframe thead th {\n",
       "        text-align: right;\n",
       "    }\n",
       "</style>\n",
       "<table border=\"1\" class=\"dataframe\">\n",
       "  <thead>\n",
       "    <tr style=\"text-align: right;\">\n",
       "      <th></th>\n",
       "      <th>AGE</th>\n",
       "      <th>COW</th>\n",
       "      <th>SCHL</th>\n",
       "      <th>MAR</th>\n",
       "      <th>OCCP</th>\n",
       "      <th>POBP</th>\n",
       "      <th>RELP</th>\n",
       "      <th>WKHP</th>\n",
       "      <th>SEX</th>\n",
       "      <th>RACE</th>\n",
       "      <th>STATE</th>\n",
       "      <th>INCOME</th>\n",
       "    </tr>\n",
       "  </thead>\n",
       "  <tbody>\n",
       "    <tr>\n",
       "      <th>1527322</th>\n",
       "      <td>19.0</td>\n",
       "      <td>1.0</td>\n",
       "      <td>16.0</td>\n",
       "      <td>5.0</td>\n",
       "      <td>5400.0</td>\n",
       "      <td>36.0</td>\n",
       "      <td>17.0</td>\n",
       "      <td>20.0</td>\n",
       "      <td>woman</td>\n",
       "      <td>9.0</td>\n",
       "      <td>51.0</td>\n",
       "      <td>2400.0</td>\n",
       "    </tr>\n",
       "    <tr>\n",
       "      <th>1324849</th>\n",
       "      <td>35.0</td>\n",
       "      <td>1.0</td>\n",
       "      <td>17.0</td>\n",
       "      <td>5.0</td>\n",
       "      <td>4720.0</td>\n",
       "      <td>36.0</td>\n",
       "      <td>0.0</td>\n",
       "      <td>24.0</td>\n",
       "      <td>woman</td>\n",
       "      <td>1.0</td>\n",
       "      <td>45.0</td>\n",
       "      <td>9500.0</td>\n",
       "    </tr>\n",
       "    <tr>\n",
       "      <th>1164697</th>\n",
       "      <td>34.0</td>\n",
       "      <td>1.0</td>\n",
       "      <td>13.0</td>\n",
       "      <td>3.0</td>\n",
       "      <td>4110.0</td>\n",
       "      <td>39.0</td>\n",
       "      <td>13.0</td>\n",
       "      <td>44.0</td>\n",
       "      <td>woman</td>\n",
       "      <td>1.0</td>\n",
       "      <td>39.0</td>\n",
       "      <td>29000.0</td>\n",
       "    </tr>\n",
       "    <tr>\n",
       "      <th>1554535</th>\n",
       "      <td>55.0</td>\n",
       "      <td>1.0</td>\n",
       "      <td>16.0</td>\n",
       "      <td>1.0</td>\n",
       "      <td>102.0</td>\n",
       "      <td>33.0</td>\n",
       "      <td>1.0</td>\n",
       "      <td>45.0</td>\n",
       "      <td>man</td>\n",
       "      <td>1.0</td>\n",
       "      <td>51.0</td>\n",
       "      <td>50000.0</td>\n",
       "    </tr>\n",
       "    <tr>\n",
       "      <th>861095</th>\n",
       "      <td>19.0</td>\n",
       "      <td>1.0</td>\n",
       "      <td>19.0</td>\n",
       "      <td>5.0</td>\n",
       "      <td>4760.0</td>\n",
       "      <td>29.0</td>\n",
       "      <td>13.0</td>\n",
       "      <td>30.0</td>\n",
       "      <td>woman</td>\n",
       "      <td>1.0</td>\n",
       "      <td>29.0</td>\n",
       "      <td>10000.0</td>\n",
       "    </tr>\n",
       "  </tbody>\n",
       "</table>\n",
       "</div>"
      ],
      "text/plain": [
       "          AGE  COW  SCHL  MAR    OCCP  POBP  RELP  WKHP    SEX  RACE  STATE   \n",
       "1527322  19.0  1.0  16.0  5.0  5400.0  36.0  17.0  20.0  woman   9.0   51.0  \\\n",
       "1324849  35.0  1.0  17.0  5.0  4720.0  36.0   0.0  24.0  woman   1.0   45.0   \n",
       "1164697  34.0  1.0  13.0  3.0  4110.0  39.0  13.0  44.0  woman   1.0   39.0   \n",
       "1554535  55.0  1.0  16.0  1.0   102.0  33.0   1.0  45.0    man   1.0   51.0   \n",
       "861095   19.0  1.0  19.0  5.0  4760.0  29.0  13.0  30.0  woman   1.0   29.0   \n",
       "\n",
       "          INCOME  \n",
       "1527322   2400.0  \n",
       "1324849   9500.0  \n",
       "1164697  29000.0  \n",
       "1554535  50000.0  \n",
       "861095   10000.0  "
      ]
     },
     "execution_count": 18,
     "metadata": {},
     "output_type": "execute_result"
    }
   ],
   "source": [
    "acs_df.sample(5)"
   ]
  },
  {
   "cell_type": "code",
   "execution_count": 24,
   "metadata": {},
   "outputs": [
    {
     "name": "stdout",
     "output_type": "stream",
     "text": [
      "Group\n",
      "A    12.5\n",
      "B    22.5\n",
      "C    30.0\n",
      "Name: Value, dtype: float64\n"
     ]
    }
   ],
   "source": [
    "import pandas as pd\n",
    "\n",
    "# Sample DataFrame\n",
    "data = {'Group': ['A', 'A', 'B', 'B', 'C'],\n",
    "        'Value': [10, 15, 20, 25, 30]}\n",
    "df = pd.DataFrame(data)\n",
    "\n",
    "# Group by 'Group' and calculate the mean of 'Value'\n",
    "grouped_df = df.groupby('Group')\n",
    "result = grouped_df['Value'].mean()\n",
    "print(result)"
   ]
  },
  {
   "cell_type": "code",
   "execution_count": 26,
   "metadata": {},
   "outputs": [
    {
     "name": "stdout",
     "output_type": "stream",
     "text": [
      "      Value      \n",
      "        sum count\n",
      "Group            \n",
      "A        25     2\n",
      "B        45     2\n",
      "C        30     1\n"
     ]
    }
   ],
   "source": [
    "result = grouped_df.agg({'Value': ['sum', 'count']})\n",
    "print(result)"
   ]
  },
  {
   "cell_type": "code",
   "execution_count": 34,
   "metadata": {},
   "outputs": [
    {
     "name": "stdout",
     "output_type": "stream",
     "text": [
      "       INCOME                                         \n",
      "        count          mean   median    min        max\n",
      "SEX                                                   \n",
      "man    866735  67762.889827  45000.0  104.0  1423000.0\n",
      "woman  797765  44605.279921  32000.0  110.0  1376000.0\n"
     ]
    }
   ],
   "source": [
    "df_man_woman = acs_df.groupby(acs_df.SEX)\n",
    "# print(df_man_woman.INCOME.mean())\n",
    "# print(df_man_woman.agg({'INCOME': ['mean']}))\n",
    "print(df_man_woman.agg({'INCOME': ['count', 'mean', 'median', 'min', 'max']}))"
   ]
  }
 ],
 "metadata": {
  "kernelspec": {
   "display_name": "Python 3",
   "language": "python",
   "name": "python3"
  },
  "language_info": {
   "codemirror_mode": {
    "name": "ipython",
    "version": 3
   },
   "file_extension": ".py",
   "mimetype": "text/x-python",
   "name": "python",
   "nbconvert_exporter": "python",
   "pygments_lexer": "ipython3",
   "version": "3.10.11"
  },
  "vscode": {
   "interpreter": {
    "hash": "916dbcbb3f70747c44a77c7bcd40155683ae19c65e1c03b4aa3499c5328201f1"
   }
  }
 },
 "nbformat": 4,
 "nbformat_minor": 2
}
